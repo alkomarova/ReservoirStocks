{
 "cells": [
  {
   "cell_type": "code",
   "execution_count": 5,
   "metadata": {},
   "outputs": [],
   "source": [
    "import pandas as pd\n",
    "import numpy as np\n",
    "\n",
    "bound = 0.1\n",
    "mse_data = pd.read_csv('10stocks_mse_opt.csv', index_col = 0)\n",
    "mean_mse_data = pd.read_csv('10stocks_mean_mse_opt.csv', index_col = 0)"
   ]
  },
  {
   "cell_type": "code",
   "execution_count": 6,
   "metadata": {},
   "outputs": [
    {
     "data": {
      "text/html": [
       "<div>\n",
       "<style scoped>\n",
       "    .dataframe tbody tr th:only-of-type {\n",
       "        vertical-align: middle;\n",
       "    }\n",
       "\n",
       "    .dataframe tbody tr th {\n",
       "        vertical-align: top;\n",
       "    }\n",
       "\n",
       "    .dataframe thead th {\n",
       "        text-align: right;\n",
       "    }\n",
       "</style>\n",
       "<table border=\"1\" class=\"dataframe\">\n",
       "  <thead>\n",
       "    <tr style=\"text-align: right;\">\n",
       "      <th></th>\n",
       "      <th>XRX</th>\n",
       "      <th>GS</th>\n",
       "      <th>SPGI</th>\n",
       "      <th>MTB</th>\n",
       "      <th>V</th>\n",
       "      <th>CTAS</th>\n",
       "      <th>ESRX</th>\n",
       "      <th>APH</th>\n",
       "      <th>BBT</th>\n",
       "      <th>RHI</th>\n",
       "    </tr>\n",
       "  </thead>\n",
       "  <tbody>\n",
       "    <tr>\n",
       "      <th>0</th>\n",
       "      <td>0.000216</td>\n",
       "      <td>0.000162</td>\n",
       "      <td>0.000260</td>\n",
       "      <td>0.000147</td>\n",
       "      <td>0.105605</td>\n",
       "      <td>0.000112</td>\n",
       "      <td>0.000256</td>\n",
       "      <td>0.000075</td>\n",
       "      <td>0.000106</td>\n",
       "      <td>0.000196</td>\n",
       "    </tr>\n",
       "    <tr>\n",
       "      <th>1</th>\n",
       "      <td>0.000218</td>\n",
       "      <td>0.000162</td>\n",
       "      <td>0.000461</td>\n",
       "      <td>0.000217</td>\n",
       "      <td>0.255980</td>\n",
       "      <td>0.000113</td>\n",
       "      <td>0.000256</td>\n",
       "      <td>0.000076</td>\n",
       "      <td>0.000112</td>\n",
       "      <td>0.000499</td>\n",
       "    </tr>\n",
       "    <tr>\n",
       "      <th>2</th>\n",
       "      <td>0.000216</td>\n",
       "      <td>0.000162</td>\n",
       "      <td>0.001371</td>\n",
       "      <td>0.000160</td>\n",
       "      <td>0.001959</td>\n",
       "      <td>0.000118</td>\n",
       "      <td>0.000257</td>\n",
       "      <td>0.000076</td>\n",
       "      <td>0.000161</td>\n",
       "      <td>0.000211</td>\n",
       "    </tr>\n",
       "    <tr>\n",
       "      <th>3</th>\n",
       "      <td>0.000166</td>\n",
       "      <td>0.000151</td>\n",
       "      <td>0.000074</td>\n",
       "      <td>0.000125</td>\n",
       "      <td>0.000065</td>\n",
       "      <td>0.000144</td>\n",
       "      <td>0.000234</td>\n",
       "      <td>0.000060</td>\n",
       "      <td>0.000119</td>\n",
       "      <td>0.000196</td>\n",
       "    </tr>\n",
       "    <tr>\n",
       "      <th>4</th>\n",
       "      <td>0.000220</td>\n",
       "      <td>0.000194</td>\n",
       "      <td>0.000168</td>\n",
       "      <td>0.000145</td>\n",
       "      <td>0.000110</td>\n",
       "      <td>0.000112</td>\n",
       "      <td>0.000257</td>\n",
       "      <td>0.000146</td>\n",
       "      <td>0.000110</td>\n",
       "      <td>0.000213</td>\n",
       "    </tr>\n",
       "    <tr>\n",
       "      <th>5</th>\n",
       "      <td>0.000230</td>\n",
       "      <td>0.000216</td>\n",
       "      <td>0.000179</td>\n",
       "      <td>0.000202</td>\n",
       "      <td>0.000112</td>\n",
       "      <td>0.000264</td>\n",
       "      <td>0.000256</td>\n",
       "      <td>0.000531</td>\n",
       "      <td>0.000151</td>\n",
       "      <td>0.000342</td>\n",
       "    </tr>\n",
       "  </tbody>\n",
       "</table>\n",
       "</div>"
      ],
      "text/plain": [
       "        XRX        GS      SPGI       MTB         V      CTAS      ESRX  \\\n",
       "0  0.000216  0.000162  0.000260  0.000147  0.105605  0.000112  0.000256   \n",
       "1  0.000218  0.000162  0.000461  0.000217  0.255980  0.000113  0.000256   \n",
       "2  0.000216  0.000162  0.001371  0.000160  0.001959  0.000118  0.000257   \n",
       "3  0.000166  0.000151  0.000074  0.000125  0.000065  0.000144  0.000234   \n",
       "4  0.000220  0.000194  0.000168  0.000145  0.000110  0.000112  0.000257   \n",
       "5  0.000230  0.000216  0.000179  0.000202  0.000112  0.000264  0.000256   \n",
       "\n",
       "        APH       BBT       RHI  \n",
       "0  0.000075  0.000106  0.000196  \n",
       "1  0.000076  0.000112  0.000499  \n",
       "2  0.000076  0.000161  0.000211  \n",
       "3  0.000060  0.000119  0.000196  \n",
       "4  0.000146  0.000110  0.000213  \n",
       "5  0.000531  0.000151  0.000342  "
      ]
     },
     "execution_count": 6,
     "metadata": {},
     "output_type": "execute_result"
    }
   ],
   "source": [
    "mse_data"
   ]
  },
  {
   "cell_type": "code",
   "execution_count": 16,
   "metadata": {},
   "outputs": [
    {
     "data": {
      "text/plain": [
       "0.0258092427879351"
      ]
     },
     "execution_count": 16,
     "metadata": {},
     "output_type": "execute_result"
    }
   ],
   "source": [
    "mean_mse_data.iloc[0, 1]"
   ]
  },
  {
   "cell_type": "code",
   "execution_count": 13,
   "metadata": {},
   "outputs": [
    {
     "data": {
      "text/html": [
       "<div>\n",
       "<style scoped>\n",
       "    .dataframe tbody tr th:only-of-type {\n",
       "        vertical-align: middle;\n",
       "    }\n",
       "\n",
       "    .dataframe tbody tr th {\n",
       "        vertical-align: top;\n",
       "    }\n",
       "\n",
       "    .dataframe thead th {\n",
       "        text-align: right;\n",
       "    }\n",
       "</style>\n",
       "<table border=\"1\" class=\"dataframe\">\n",
       "  <thead>\n",
       "    <tr style=\"text-align: right;\">\n",
       "      <th></th>\n",
       "      <th>ESN</th>\n",
       "      <th>DESN</th>\n",
       "      <th>HESN</th>\n",
       "      <th>ARIMA</th>\n",
       "      <th>LSTM</th>\n",
       "      <th>GRU</th>\n",
       "    </tr>\n",
       "  </thead>\n",
       "  <tbody>\n",
       "    <tr>\n",
       "      <th>0</th>\n",
       "      <td>0.010713</td>\n",
       "      <td>0.025809</td>\n",
       "      <td>0.000469</td>\n",
       "      <td>0.000133</td>\n",
       "      <td>0.000167</td>\n",
       "      <td>0.000248</td>\n",
       "    </tr>\n",
       "  </tbody>\n",
       "</table>\n",
       "</div>"
      ],
      "text/plain": [
       "        ESN      DESN      HESN     ARIMA      LSTM       GRU\n",
       "0  0.010713  0.025809  0.000469  0.000133  0.000167  0.000248"
      ]
     },
     "execution_count": 13,
     "metadata": {},
     "output_type": "execute_result"
    }
   ],
   "source": [
    "mean_mse_data"
   ]
  },
  {
   "cell_type": "code",
   "execution_count": 33,
   "metadata": {},
   "outputs": [],
   "source": [
    "def hit_probability(model):\n",
    "    max_mse = mean_mse_data.iloc[0, model]*(1+bound)\n",
    "    return ((mse_data.iloc[model] > max_mse).sum())/mse_data.shape[1]"
   ]
  },
  {
   "cell_type": "code",
   "execution_count": 34,
   "metadata": {},
   "outputs": [
    {
     "data": {
      "text/plain": [
       "{'ESN': 0.1, 'DESN': 0.1, 'HESN': 0.2, 'ARIMA': 0.4, 'LSTM': 0.4, 'GRU': 0.2}"
      ]
     },
     "execution_count": 34,
     "metadata": {},
     "output_type": "execute_result"
    }
   ],
   "source": [
    "#hit_dict = {\"ESN\": 0, \"DESN\": 0, \"HESN\": 0, \"ARIMA\": 0, \"LSTM\": 0, \"GRU\": 0}\n",
    "hit_dict = {}\n",
    "hit_arr = [\"ESN\", \"DESN\", \"HESN\", \"ARIMA\", \"LSTM\", \"GRU\"]\n",
    "\n",
    "for i in range(len(hit_arr)):\n",
    "    hit_dict[hit_arr[i]] = hit_probability(i)\n",
    "    \n",
    "hit_dict"
   ]
  },
  {
   "cell_type": "code",
   "execution_count": null,
   "metadata": {},
   "outputs": [],
   "source": []
  }
 ],
 "metadata": {
  "kernelspec": {
   "display_name": "base",
   "language": "python",
   "name": "python3"
  },
  "language_info": {
   "codemirror_mode": {
    "name": "ipython",
    "version": 3
   },
   "file_extension": ".py",
   "mimetype": "text/x-python",
   "name": "python",
   "nbconvert_exporter": "python",
   "pygments_lexer": "ipython3",
   "version": "3.9.13"
  }
 },
 "nbformat": 4,
 "nbformat_minor": 2
}
